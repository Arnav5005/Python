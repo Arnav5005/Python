{
 "cells": [
  {
   "cell_type": "markdown",
   "id": "1e635dae",
   "metadata": {},
   "source": [
    "## Numpy Array operations"
   ]
  },
  {
   "cell_type": "code",
   "execution_count": 2,
   "id": "fcdace95",
   "metadata": {},
   "outputs": [],
   "source": [
    "import numpy as np"
   ]
  },
  {
   "cell_type": "code",
   "execution_count": 4,
   "id": "ff602e19",
   "metadata": {},
   "outputs": [
    {
     "name": "stdout",
     "output_type": "stream",
     "text": [
      "Basic Slicing :  [3 4 5 6 7]\n",
      "With Step [2 4 6 8]\n",
      "Negative Indexing 8\n"
     ]
    }
   ],
   "source": [
    "arr=np.array([1,2,3,4,5,6,7,8,9,10])\n",
    "print(\"Basic Slicing : \",arr[2:7])\n",
    "print(\"With Step\",arr[1:8:2])\n",
    "print(\"Negative Indexing\",arr[-3])"
   ]
  },
  {
   "cell_type": "code",
   "execution_count": 5,
   "id": "b0d10f93",
   "metadata": {},
   "outputs": [
    {
     "name": "stdout",
     "output_type": "stream",
     "text": [
      "Specific Element :  6\n",
      "Entire Row :  [4 5 6]\n",
      "Entire Column :  [2 5 8]\n"
     ]
    }
   ],
   "source": [
    "arr_2d=np.array([[1,2,3],\n",
    "                 [4,5,6],\n",
    "                 [7,8,9]])\n",
    "print(\"Specific Element : \",arr_2d[1,2])\n",
    "print(\"Entire Row : \",arr_2d[1])\n",
    "print(\"Entire Column : \",arr_2d[:,1]) # : represents all ros because to get a particular column we need all the rows"
   ]
  },
  {
   "cell_type": "markdown",
   "id": "a51790e0",
   "metadata": {},
   "source": [
    "### Sorting"
   ]
  },
  {
   "cell_type": "code",
   "execution_count": null,
   "id": "c6dcaee5",
   "metadata": {},
   "outputs": [
    {
     "name": "stdout",
     "output_type": "stream",
     "text": [
      "Sorted array :  [1 2 2 3 4 7 8]\n",
      "Sorted 2D array :  [[1 2 3]\n",
      " [5 4 6]\n",
      " [7 9 7]]\n"
     ]
    }
   ],
   "source": [
    "unsorted=np.array([3,2,7,4,2,8,1])\n",
    "print(\"Sorted array : \",np.sort(unsorted))\n",
    "\n",
    "unsorted_2d=np.array([[7,4,6],\n",
    "                      [1,9,3],\n",
    "                      [5,2,7]])\n",
    "# here sorting can be either row wise(axis=1) or column wise(axis=0) \n",
    "print(\"Sorted 2D array column wise : \",np.sort(unsorted_2d,axis=0))\n",
    "print(\"Sorted 2D array row wise : \",np.sort(unsorted_2d,axis=1))"
   ]
  },
  {
   "cell_type": "markdown",
   "id": "2f0bf99c",
   "metadata": {},
   "source": [
    "### Filter"
   ]
  },
  {
   "cell_type": "code",
   "execution_count": 8,
   "id": "82181ad2",
   "metadata": {},
   "outputs": [
    {
     "name": "stdout",
     "output_type": "stream",
     "text": [
      "[ 2  4  6  8 10]\n"
     ]
    }
   ],
   "source": [
    "# numpy array allows us to write expressions in an array\n",
    "number=np.array([1,2,3,4,5,6,7,8,9,10]) \n",
    "even_number=number[number%2==0] # this is an even number array from 1 to 10\n",
    "print(even_number)"
   ]
  },
  {
   "cell_type": "markdown",
   "id": "19b12fa5",
   "metadata": {},
   "source": [
    "### Filter with mask"
   ]
  },
  {
   "cell_type": "code",
   "execution_count": 11,
   "id": "a77d95eb",
   "metadata": {},
   "outputs": [
    {
     "name": "stdout",
     "output_type": "stream",
     "text": [
      "Numbers greater than 5 :  [ 6  7  8  9 10]\n"
     ]
    }
   ],
   "source": [
    "# in the above expression number%2=0 is a mask \n",
    "mask=number>5\n",
    "print(\"Numbers greater than 5 : \",number[mask])"
   ]
  },
  {
   "cell_type": "markdown",
   "id": "c61cb757",
   "metadata": {},
   "source": [
    "### Fancy indexing vs np.where()"
   ]
  },
  {
   "cell_type": "code",
   "execution_count": null,
   "id": "77d3b844",
   "metadata": {},
   "outputs": [
    {
     "name": "stdout",
     "output_type": "stream",
     "text": [
      "[1 3 5]\n",
      "Number > 5 :  [ 6  7  8  9 10]\n"
     ]
    }
   ],
   "source": [
    "indices=[0,2,4]\n",
    "print(number[indices])\n",
    "\n",
    "# np.where()\n",
    "\n",
    "where_result=np.where(number>5) # similar to masking , it stores the indices(fulfilling required condition) in an array\n",
    "print(\"Numbers > 5 : \",number[where_result])"
   ]
  },
  {
   "cell_type": "code",
   "execution_count": null,
   "id": "d89b24b6",
   "metadata": {},
   "outputs": [
    {
     "name": "stdout",
     "output_type": "stream",
     "text": [
      "[ 1  2  3  4  5 24 28 32 36 40]\n",
      "['false' 'false' 'false' 'false' 'false' 'true' 'true' 'true' 'true'\n",
      " 'true']\n"
     ]
    }
   ],
   "source": [
    "condition_arr1=np.where(number>5,number*4,number)\n",
    "print(condition_arr1)\n",
    "# to understand this we can see it in this way - \n",
    "# if(number>5){\n",
    "#     number*4\n",
    "# }\n",
    "# else{\n",
    "#     number\n",
    "# }\n",
    "condition_arr2=np.where(number>5,\"true\",\"false\")\n",
    "print(condition_arr2)"
   ]
  },
  {
   "cell_type": "markdown",
   "id": "f9edb1a9",
   "metadata": {},
   "source": [
    "### Adding and removing data"
   ]
  },
  {
   "cell_type": "code",
   "execution_count": 18,
   "id": "31febfae",
   "metadata": {},
   "outputs": [
    {
     "name": "stdout",
     "output_type": "stream",
     "text": [
      "[1 2 3 4 5 6]\n"
     ]
    }
   ],
   "source": [
    "arr1=np.array([1,2,3])\n",
    "arr2=np.array([4,5,6])\n",
    "combined=np.concatenate((arr1,arr2)) # passing as a Tuple\n",
    "print(combined)"
   ]
  },
  {
   "cell_type": "markdown",
   "id": "58fa44b9",
   "metadata": {},
   "source": [
    "### Array compatibility"
   ]
  },
  {
   "cell_type": "code",
   "execution_count": null,
   "id": "f02aab96",
   "metadata": {},
   "outputs": [
    {
     "name": "stdout",
     "output_type": "stream",
     "text": [
      "compatibility shapes True\n"
     ]
    }
   ],
   "source": [
    "a=np.array([1,2,3])\n",
    "b=np.array([4,5,6,7])\n",
    "c=np.array([7,8,9])\n",
    "\n",
    "print('compatibility shapes',a.shape==b.shape)"
   ]
  },
  {
   "cell_type": "code",
   "execution_count": 21,
   "id": "4ad3a04a",
   "metadata": {},
   "outputs": [
    {
     "name": "stdout",
     "output_type": "stream",
     "text": [
      "[[1 2]\n",
      " [3 4]\n",
      " [5 6]]\n",
      "[[1 2 5]\n",
      " [3 4 6]]\n"
     ]
    }
   ],
   "source": [
    "# vstack() (vertical stack always adds a new row)\n",
    "\n",
    "original=np.array([[1,2],[3,4]])\n",
    "new_row=np.array([[5,6]])\n",
    "new_arr=np.vstack((original,new_row))\n",
    "print(new_arr)\n",
    "\n",
    "# hstack() (horizontal stack)\n",
    "\n",
    "new_col=np.array([[5],[6]])\n",
    "new_arr=np.hstack((original,new_col))\n",
    "print(new_arr)"
   ]
  },
  {
   "cell_type": "code",
   "execution_count": null,
   "id": "1d51852d",
   "metadata": {},
   "outputs": [
    {
     "name": "stdout",
     "output_type": "stream",
     "text": [
      "Array after deletion :  [1 2 3 4]\n"
     ]
    }
   ],
   "source": [
    "# deleting elements\n",
    "\n",
    "arr=np.array([1,2,3,4,5])\n",
    "deleted=np.delete(arr,4) # here 4 is the index\n",
    "print(\"Array after deletion : \",deleted)"
   ]
  }
 ],
 "metadata": {
  "kernelspec": {
   "display_name": "Python 3",
   "language": "python",
   "name": "python3"
  },
  "language_info": {
   "codemirror_mode": {
    "name": "ipython",
    "version": 3
   },
   "file_extension": ".py",
   "mimetype": "text/x-python",
   "name": "python",
   "nbconvert_exporter": "python",
   "pygments_lexer": "ipython3",
   "version": "3.13.9"
  }
 },
 "nbformat": 4,
 "nbformat_minor": 5
}
