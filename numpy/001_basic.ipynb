{
 "cells": [
  {
   "cell_type": "markdown",
   "id": "632133b4",
   "metadata": {},
   "source": [
    "## Numpy array and basics"
   ]
  },
  {
   "cell_type": "code",
   "execution_count": 16,
   "id": "6c51c78b",
   "metadata": {},
   "outputs": [],
   "source": [
    "import numpy as np\n",
    "# numpy is a very optimised library used to perform operations on homogenous datatypes which take more time in traditional way"
   ]
  },
  {
   "cell_type": "markdown",
   "id": "68de9ccf",
   "metadata": {},
   "source": [
    "### creating array from list"
   ]
  },
  {
   "cell_type": "code",
   "execution_count": 17,
   "id": "08d94b16",
   "metadata": {},
   "outputs": [
    {
     "name": "stdout",
     "output_type": "stream",
     "text": [
      "1D array :  [1 2 3 4 5]\n",
      "2D array : \n",
      " [[1 2 3]\n",
      " [4 5 6]]\n"
     ]
    }
   ],
   "source": [
    "arr_1d=np.array([1,2,3,4,5]) # array only needs a single argument\n",
    "print(\"1D array : \",arr_1d)\n",
    "\n",
    "arr_2d=np.array([[1,2,3],[4,5,6]]) # array only needs a single argument that's why we enclosed the two lists in a single bracket\n",
    "print(\"2D array : \\n\",arr_2d)"
   ]
  },
  {
   "cell_type": "markdown",
   "id": "34e93f84",
   "metadata": {},
   "source": [
    "### list vs numpy array"
   ]
  },
  {
   "cell_type": "code",
   "execution_count": 18,
   "id": "2574724d",
   "metadata": {},
   "outputs": [
    {
     "name": "stdout",
     "output_type": "stream",
     "text": [
      "Python list multiplication :  [1, 2, 3, 1, 2, 3]\n",
      "Numpy array multiplication :  [2 4 6]\n"
     ]
    }
   ],
   "source": [
    "py_list=[1,2,3]\n",
    "print(\"Python list multiplication : \",py_list*2) # list will be duplicated\n",
    "\n",
    "np_arr=np.array([1,2,3])\n",
    "print(\"Numpy array multiplication : \",np_arr*2) # actual array multiplication (element wise multiplication)"
   ]
  },
  {
   "cell_type": "markdown",
   "id": "8fb01c9e",
   "metadata": {},
   "source": [
    "### creating arrays from scratch"
   ]
  },
  {
   "cell_type": "code",
   "execution_count": null,
   "id": "9f730c85",
   "metadata": {},
   "outputs": [
    {
     "name": "stdout",
     "output_type": "stream",
     "text": [
      "Zeros array : \n",
      " [[0. 0. 0. 0.]\n",
      " [0. 0. 0. 0.]\n",
      " [0. 0. 0. 0.]]\n",
      "Ones array : \n",
      " [[1. 1. 1.]\n",
      " [1. 1. 1.]]\n",
      "constant array : \n",
      " [[7 7]\n",
      " [7 7]]\n",
      "random array : \n",
      " [[0.72697622 0.54329573 0.54045255]\n",
      " [0.91550435 0.5013608  0.90816738]]\n",
      "The array is :  [0 2 4 6 8]\n"
     ]
    }
   ],
   "source": [
    "zeros=np.zeros((3,4)) # 3,4 is the dimension\n",
    "print(\"Zeros array : \\n\",zeros)\n",
    "\n",
    "ones=np.ones((2,3)) # 2,3 is the dimension\n",
    "print(\"Ones array : \\n\",ones)\n",
    "\n",
    "# array of constant values\n",
    "\n",
    "full=np.full((2,2), 7) # here 7 is the constant and 2,2 is the dimension\n",
    "print(\"constant array : \\n\",full)\n",
    "\n",
    "# random method\n",
    "\n",
    "random=np.random.random((2,3)) # random is a class and random.random is a method of that random class which return an array of random values of given dimensions\n",
    "print(\"random array : \\n\",random)\n",
    "\n",
    "# arange\n",
    "\n",
    "sequence=np.arange(0,10,2) # start , stop(non-inclusive bound) , step\n",
    "print(\"The array is : \",sequence)"
   ]
  },
  {
   "cell_type": "markdown",
   "id": "8928a7b9",
   "metadata": {},
   "source": [
    "### vector , matrix , tensor"
   ]
  },
  {
   "cell_type": "code",
   "execution_count": null,
   "id": "037bb2ba",
   "metadata": {},
   "outputs": [
    {
     "name": "stdout",
     "output_type": "stream",
     "text": [
      "Vector :  [1 2 3]\n",
      "Matrix : \n",
      " [[1 2 3]\n",
      " [4 5 6]\n",
      " [7 8 9]]\n",
      "Tensor : \n",
      " [[[ 1  2  3]\n",
      "  [ 4  5  6]]\n",
      "\n",
      " [[ 7  8  9]\n",
      "  [10 11 12]]\n",
      "\n",
      " [[13 14 15]\n",
      "  [16 17 18]]]\n"
     ]
    }
   ],
   "source": [
    "# Vector\n",
    "\n",
    "vector=np.array([1,2,3])\n",
    "print(\"Vector : \",vector)\n",
    "\n",
    "# Matrix (2-D array)\n",
    "\n",
    "matrix=np.array([[1,2,3],\n",
    "                 [4,5,6],\n",
    "                 [7,8,9]])\n",
    "print(\"Matrix : \\n\",matrix)\n",
    "\n",
    "# Tensor (multidimensional array)\n",
    "\n",
    "tensor=np.array([[[1,2,3],[4,5,6]],\n",
    "                [[7,8,9],[10,11,12]],\n",
    "                [[13,14,15],[16,17,18]]])\n",
    "print(\"Tensor : \\n\",tensor)"
   ]
  },
  {
   "cell_type": "markdown",
   "id": "2f436e3e",
   "metadata": {},
   "source": [
    "### Array properties"
   ]
  },
  {
   "cell_type": "code",
   "execution_count": 14,
   "id": "73032492",
   "metadata": {},
   "outputs": [
    {
     "name": "stdout",
     "output_type": "stream",
     "text": [
      "Shape :  (2, 3)\n",
      "Dimension :  2\n",
      "Size :  6\n",
      "Datatype :  int64\n"
     ]
    }
   ],
   "source": [
    "arr=np.array([[1,2,3],\n",
    "              [4,5,6]])\n",
    "print(\"Shape : \",arr.shape) # gives rows and columns\n",
    "print(\"Dimension : \",arr.ndim) # gives dimension of array\n",
    "print(\"Size : \",arr.size) # total number of elements\n",
    "print(\"Datatype : \",arr.dtype) # gives datatype of array"
   ]
  },
  {
   "cell_type": "markdown",
   "id": "22718f05",
   "metadata": {},
   "source": [
    "### Array reshaping"
   ]
  },
  {
   "cell_type": "code",
   "execution_count": 21,
   "id": "421a071d",
   "metadata": {},
   "outputs": [
    {
     "name": "stdout",
     "output_type": "stream",
     "text": [
      "Original array :  [ 0  1  2  3  4  5  6  7  8  9 10 11]\n",
      "Reshaped array : \n",
      " [[ 0  1  2  3]\n",
      " [ 4  5  6  7]\n",
      " [ 8  9 10 11]]\n",
      "Flattened array :  [ 0  1  2  3  4  5  6  7  8  9 10 11]\n",
      "Raveled array :  [ 0  1  2  3  4  5  6  7  8  9 10 11]\n",
      "Transposed array : \n",
      " [[ 0  4  8]\n",
      " [ 1  5  9]\n",
      " [ 2  6 10]\n",
      " [ 3  7 11]]\n"
     ]
    }
   ],
   "source": [
    "arr=np.arange(12)\n",
    "print(\"Original array : \",arr)\n",
    "\n",
    "# reshape\n",
    "\n",
    "reshaped=arr.reshape((3,4)) # converting it to the matrix of size 3,4 . Note - the reshaped matrix should have same number of elements as before\n",
    "print(\"Reshaped array : \\n\",reshaped)\n",
    "\n",
    "# flatten (it doesn't changes the original array)\n",
    "\n",
    "flattened=reshaped.flatten()\n",
    "print(\"Flattened array : \",flattened)\n",
    "\n",
    "# ravel (returns view , instead of copy i.e. it changes the original array)\n",
    "\n",
    "raveled=flattened.ravel()\n",
    "print(\"Raveled array : \",raveled)\n",
    "\n",
    "# transpose (T)\n",
    "\n",
    "transposed=reshaped.T\n",
    "print(\"Transposed array : \\n\",transposed)"
   ]
  },
  {
   "cell_type": "code",
   "execution_count": null,
   "id": "99774ab2",
   "metadata": {},
   "outputs": [],
   "source": []
  }
 ],
 "metadata": {
  "kernelspec": {
   "display_name": "Python 3",
   "language": "python",
   "name": "python3"
  },
  "language_info": {
   "codemirror_mode": {
    "name": "ipython",
    "version": 3
   },
   "file_extension": ".py",
   "mimetype": "text/x-python",
   "name": "python",
   "nbconvert_exporter": "python",
   "pygments_lexer": "ipython3",
   "version": "3.13.9"
  }
 },
 "nbformat": 4,
 "nbformat_minor": 5
}
