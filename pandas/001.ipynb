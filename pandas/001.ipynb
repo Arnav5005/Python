{
 "cells": [
  {
   "cell_type": "markdown",
   "id": "b7f53ea2",
   "metadata": {},
   "source": [
    "## Pandas\n",
    "\n",
    "### We use pandas because it makes working with structured data (like tables, spreadsheets, and time series) in Python fast, easy, and powerful."
   ]
  },
  {
   "cell_type": "code",
   "execution_count": 107,
   "id": "d2b9da73",
   "metadata": {},
   "outputs": [],
   "source": [
    "import pandas as pd\n",
    "import numpy as np"
   ]
  },
  {
   "cell_type": "markdown",
   "id": "65cd9dd4",
   "metadata": {},
   "source": [
    "#### there are 2 most important data structures in pandas - Series and Dataframe\n",
    "#### You may also find it easier to import Series and DataFrame into the local namespace since they are so frequently used:\n",
    "#### from pandas import Series, DataFrame"
   ]
  },
  {
   "cell_type": "markdown",
   "id": "d8621e97",
   "metadata": {},
   "source": [
    "## Series \n",
    "\n",
    "#### A Series is a one-dimensional array-like object containing a sequence of values (of similar types to NumPy types) of the same type and an associated array of data labels ,  called its index. The simplest Series is formed from only an array of data . It consists of elements of similar datatypes\n"
   ]
  },
  {
   "cell_type": "code",
   "execution_count": 108,
   "id": "b3d98f5c",
   "metadata": {},
   "outputs": [
    {
     "data": {
      "text/plain": [
       "0    1\n",
       "1    2\n",
       "2    3\n",
       "3    4\n",
       "dtype: int64"
      ]
     },
     "execution_count": 108,
     "metadata": {},
     "output_type": "execute_result"
    }
   ],
   "source": [
    "obj=pd.Series([1,2,3,4])\n",
    "obj"
   ]
  },
  {
   "cell_type": "code",
   "execution_count": 109,
   "id": "db4efc05",
   "metadata": {},
   "outputs": [
    {
     "data": {
      "text/plain": [
       "RangeIndex(start=0, stop=4, step=1)"
      ]
     },
     "execution_count": 109,
     "metadata": {},
     "output_type": "execute_result"
    }
   ],
   "source": [
    "obj.array # it attributes to PandasArray\n",
    "obj.index #to get the index"
   ]
  },
  {
   "cell_type": "code",
   "execution_count": 110,
   "id": "32072a55",
   "metadata": {},
   "outputs": [
    {
     "data": {
      "text/plain": [
       "a    4\n",
       "c   -5\n",
       "d    3\n",
       "dtype: int64"
      ]
     },
     "execution_count": 110,
     "metadata": {},
     "output_type": "execute_result"
    }
   ],
   "source": [
    "# create a Series with an index identifying each data point with a label\n",
    "\n",
    "obj1=pd.Series([4,7,-5,3],index=['a','b','c','d'])\n",
    "obj1.index\n",
    "\n",
    "# obj1['d'] # it returns the value on this particular index\n",
    "obj1[['a','c','d']] # Here ['a','c','d'] is interpreted as a list of indices, even though it contains strings instead of integers"
   ]
  },
  {
   "cell_type": "code",
   "execution_count": 111,
   "id": "00b0ec3e",
   "metadata": {},
   "outputs": [
    {
     "data": {
      "text/plain": [
       "a    16.0\n",
       "b    16.0\n",
       "c    -1.0\n",
       "d     NaN\n",
       "e     NaN\n",
       "dtype: float64"
      ]
     },
     "execution_count": 111,
     "metadata": {},
     "output_type": "execute_result"
    }
   ],
   "source": [
    "obj1[obj1>0] # filtering \n",
    "\n",
    "# we can also perform operation like multiplication addition etc\n",
    "\n",
    "obj1*2 \n",
    "\n",
    "# operation between 2 different Pandas Series\n",
    "\n",
    "obj2=pd.Series([12,9,4,0],index=['a','b','c','e'])\n",
    "\n",
    "obj1+obj2"
   ]
  },
  {
   "cell_type": "code",
   "execution_count": 112,
   "id": "56c33de0",
   "metadata": {},
   "outputs": [
    {
     "data": {
      "text/plain": [
       "a    162754.791419\n",
       "b      8103.083928\n",
       "c        54.598150\n",
       "e         1.000000\n",
       "dtype: float64"
      ]
     },
     "execution_count": 112,
     "metadata": {},
     "output_type": "execute_result"
    }
   ],
   "source": [
    "np.exp(obj2) # takes the exponent of the list"
   ]
  },
  {
   "cell_type": "code",
   "execution_count": 113,
   "id": "dc65b3d7",
   "metadata": {},
   "outputs": [
    {
     "data": {
      "text/plain": [
       "{'India': 1.0, 'Uttarakhand': nan, 'Gujrat': nan}"
      ]
     },
     "execution_count": 113,
     "metadata": {},
     "output_type": "execute_result"
    }
   ],
   "source": [
    "# dictionary to series \n",
    "\n",
    "data={'India':1,'China':2,'US':3} \n",
    "obj3=pd.Series(data)\n",
    "\n",
    "# we can overwrite the keys by passing an index with dictionary keys\n",
    "\n",
    "new_index=['India','Uttarakhand','Gujrat'] # no value for Uttarakhand and Gujrat was found therefore they'll display NaN \n",
    "obj3=pd.Series(data,index=new_index) #instead of this we could also have done obj3.index=[] this format\n",
    "obj3.to_dict() # it converts the list to dictionary"
   ]
  },
  {
   "cell_type": "code",
   "execution_count": 115,
   "id": "1b1a12c2",
   "metadata": {},
   "outputs": [],
   "source": [
    "# we can assign labels for pandas series\n",
    "\n",
    "obj4=pd.Series({\"BMW\":1,\"Mercedes\":2,\"Pagani\":3})\n",
    "obj4.name=\"Ranking\" # assigning a label for the Series \n",
    "obj4.index.name=\"Car brands\" # assigning a label for the indices"
   ]
  },
  {
   "cell_type": "markdown",
   "id": "e669fb6d",
   "metadata": {},
   "source": [
    "## Dataframe\n",
    "\n",
    "#### A DataFrame represents a rectangular table of data and contains an ordered, named collection of columns, each of which can be a different value type (numeric, string, Boolean, etc.). The DataFrame has both a row and column index; it can be thought of as a dictionary of Series all sharing the same index\n",
    "\n",
    "#### There are many ways to construct a DataFrame, though one of the most common is from a dictionary of equal-length lists or NumPy arrays:\n"
   ]
  },
  {
   "cell_type": "code",
   "execution_count": 116,
   "id": "8dad6366",
   "metadata": {},
   "outputs": [],
   "source": [
    "# Differnce between Series and DataFrames :\n",
    "\n",
    "# Concept\t                          Series\t                                               DataFrame\n",
    "# Definition                A one-dimensional labeled array                     A two-dimensional labeled data structure (like a table)\n",
    "# Analogy                   Like one column in Excel                            Like the whole Excel sheet (rows + columns)\n",
    "# Data Structure            1D                                                  2D (rows + columns)\n",
    "# Dtype                     onlyone dtype                                       Each column has it's own dtype"
   ]
  },
  {
   "cell_type": "code",
   "execution_count": 117,
   "id": "9df7b1bf",
   "metadata": {},
   "outputs": [
    {
     "data": {
      "text/html": [
       "<div>\n",
       "<style scoped>\n",
       "    .dataframe tbody tr th:only-of-type {\n",
       "        vertical-align: middle;\n",
       "    }\n",
       "\n",
       "    .dataframe tbody tr th {\n",
       "        vertical-align: top;\n",
       "    }\n",
       "\n",
       "    .dataframe thead th {\n",
       "        text-align: right;\n",
       "    }\n",
       "</style>\n",
       "<table border=\"1\" class=\"dataframe\">\n",
       "  <thead>\n",
       "    <tr style=\"text-align: right;\">\n",
       "      <th></th>\n",
       "      <th>states</th>\n",
       "      <th>year</th>\n",
       "      <th>pop</th>\n",
       "    </tr>\n",
       "  </thead>\n",
       "  <tbody>\n",
       "    <tr>\n",
       "      <th>0</th>\n",
       "      <td>Jammu and Kashmir</td>\n",
       "      <td>2008</td>\n",
       "      <td>1.5</td>\n",
       "    </tr>\n",
       "    <tr>\n",
       "      <th>1</th>\n",
       "      <td>Uttarakhand</td>\n",
       "      <td>2009</td>\n",
       "      <td>1.7</td>\n",
       "    </tr>\n",
       "    <tr>\n",
       "      <th>2</th>\n",
       "      <td>Himachal Pradesh</td>\n",
       "      <td>2010</td>\n",
       "      <td>2.6</td>\n",
       "    </tr>\n",
       "    <tr>\n",
       "      <th>3</th>\n",
       "      <td>Punjab</td>\n",
       "      <td>2011</td>\n",
       "      <td>2.9</td>\n",
       "    </tr>\n",
       "  </tbody>\n",
       "</table>\n",
       "</div>"
      ],
      "text/plain": [
       "              states  year  pop\n",
       "0  Jammu and Kashmir  2008  1.5\n",
       "1        Uttarakhand  2009  1.7\n",
       "2   Himachal Pradesh  2010  2.6\n",
       "3             Punjab  2011  2.9"
      ]
     },
     "execution_count": 117,
     "metadata": {},
     "output_type": "execute_result"
    }
   ],
   "source": [
    "data={\"states\":[\"Jammu and Kashmir\",\"Uttarakhand\",\"Himachal Pradesh\",\"Punjab\"],\"year\":[2008,2009,2010,2011],\"pop\":[1.5,1.7,2.6,2.9]}\n",
    "df=pd.DataFrame(data)\n",
    "df"
   ]
  },
  {
   "cell_type": "code",
   "execution_count": 118,
   "id": "2d1b8bd9",
   "metadata": {},
   "outputs": [
    {
     "data": {
      "text/html": [
       "<div>\n",
       "<style scoped>\n",
       "    .dataframe tbody tr th:only-of-type {\n",
       "        vertical-align: middle;\n",
       "    }\n",
       "\n",
       "    .dataframe tbody tr th {\n",
       "        vertical-align: top;\n",
       "    }\n",
       "\n",
       "    .dataframe thead th {\n",
       "        text-align: right;\n",
       "    }\n",
       "</style>\n",
       "<table border=\"1\" class=\"dataframe\">\n",
       "  <thead>\n",
       "    <tr style=\"text-align: right;\">\n",
       "      <th></th>\n",
       "      <th>states</th>\n",
       "      <th>year</th>\n",
       "      <th>pop</th>\n",
       "    </tr>\n",
       "  </thead>\n",
       "  <tbody>\n",
       "    <tr>\n",
       "      <th>0</th>\n",
       "      <td>Jammu and Kashmir</td>\n",
       "      <td>2008</td>\n",
       "      <td>1.5</td>\n",
       "    </tr>\n",
       "    <tr>\n",
       "      <th>1</th>\n",
       "      <td>Uttarakhand</td>\n",
       "      <td>2009</td>\n",
       "      <td>1.7</td>\n",
       "    </tr>\n",
       "    <tr>\n",
       "      <th>2</th>\n",
       "      <td>Himachal Pradesh</td>\n",
       "      <td>2010</td>\n",
       "      <td>2.6</td>\n",
       "    </tr>\n",
       "    <tr>\n",
       "      <th>3</th>\n",
       "      <td>Punjab</td>\n",
       "      <td>2011</td>\n",
       "      <td>2.9</td>\n",
       "    </tr>\n",
       "  </tbody>\n",
       "</table>\n",
       "</div>"
      ],
      "text/plain": [
       "              states  year  pop\n",
       "0  Jammu and Kashmir  2008  1.5\n",
       "1        Uttarakhand  2009  1.7\n",
       "2   Himachal Pradesh  2010  2.6\n",
       "3             Punjab  2011  2.9"
      ]
     },
     "execution_count": 118,
     "metadata": {},
     "output_type": "execute_result"
    }
   ],
   "source": [
    "# when working with large dataframes sometimes we just want few of the rows \n",
    "\n",
    "df.head() # displays first 5 rows\n",
    "df.tail() # displays last 5 rows "
   ]
  },
  {
   "cell_type": "code",
   "execution_count": 119,
   "id": "a665b3b1",
   "metadata": {},
   "outputs": [
    {
     "data": {
      "text/plain": [
       "0    2008\n",
       "1    2009\n",
       "2    2010\n",
       "3    2011\n",
       "Name: year, dtype: int64"
      ]
     },
     "execution_count": 119,
     "metadata": {},
     "output_type": "execute_result"
    }
   ],
   "source": [
    "# Specifying the order of columns\n",
    "\n",
    "pd.DataFrame(data,columns=[\"year\",\"states\",\"pop\",\"debt\"]) # debt will show Nan as theresno value regarding it\n",
    "\n",
    "# to access columns\n",
    "\n",
    "df.columns\n",
    "\n",
    "# A column in a DataFrame can be retrieved as a Series either by dictionary-like notation or by using the dot attribute notation :\n",
    "\n",
    "df[\"states\"]\n",
    "df.year\n",
    "\n",
    "# frame2[column] works for any column name, but frame2.column works only when the column name is a valid Python variable name and does not conflict with any of the method names in DataFrame . For example, if a column’s name contains whitespace or symbols other than underscores, it cannot be accessed with the dot attribute method."
   ]
  },
  {
   "cell_type": "markdown",
   "id": "9a18d26c",
   "metadata": {},
   "source": [
    "### iloc , loc \n",
    "\n",
    "#### loc and iloc are two key methods in pandas used for data selection and indexing. Both are used to access rows and columns of a DataFrame, but they differ in how they handle indexing:\n",
    "\n",
    "### 1.loc[] — Label-based indexing : Works with row and column labels. You use the labels (the index or column names) to access data. Includes the end point when slicing (i.e., it’s inclusive). \n",
    "### 2.iloc[] — Position-based indexing : Works with integer positions (like list indices). You use integer values (0-based index) to access data. Does not include the end point when slicing (i.e., it’s exclusive)."
   ]
  },
  {
   "cell_type": "code",
   "execution_count": null,
   "id": "d24fb7ef",
   "metadata": {},
   "outputs": [
    {
     "data": {
      "text/html": [
       "<div>\n",
       "<style scoped>\n",
       "    .dataframe tbody tr th:only-of-type {\n",
       "        vertical-align: middle;\n",
       "    }\n",
       "\n",
       "    .dataframe tbody tr th {\n",
       "        vertical-align: top;\n",
       "    }\n",
       "\n",
       "    .dataframe thead th {\n",
       "        text-align: right;\n",
       "    }\n",
       "</style>\n",
       "<table border=\"1\" class=\"dataframe\">\n",
       "  <thead>\n",
       "    <tr style=\"text-align: right;\">\n",
       "      <th></th>\n",
       "      <th>States</th>\n",
       "      <th>Countries</th>\n",
       "      <th>population(millions)</th>\n",
       "    </tr>\n",
       "  </thead>\n",
       "  <tbody>\n",
       "    <tr>\n",
       "      <th>A</th>\n",
       "      <td>Uttarakhand</td>\n",
       "      <td>India</td>\n",
       "      <td>1442.0</td>\n",
       "    </tr>\n",
       "    <tr>\n",
       "      <th>C</th>\n",
       "      <td>Sikkim</td>\n",
       "      <td>Russia</td>\n",
       "      <td>144.0</td>\n",
       "    </tr>\n",
       "  </tbody>\n",
       "</table>\n",
       "</div>"
      ],
      "text/plain": [
       "        States Countries  population(millions)\n",
       "A  Uttarakhand     India                1442.0\n",
       "C       Sikkim    Russia                 144.0"
      ]
     },
     "execution_count": 122,
     "metadata": {},
     "output_type": "execute_result"
    }
   ],
   "source": [
    "df1=pd.DataFrame({\"States\":[\"Uttarakhand\",\"Maharashtra\",\"Sikkim\"],\"Countries\":[\"India\",\"United States\",\"Russia\"],\"population(millions)\":[1442,69.3,144]},index=[\"A\",\"B\",\"C\"])\n",
    "\n",
    "df1.loc[\"C\"] # it'll give the row whose index is labelled C\n",
    "\n",
    "df1.loc[\"C\",\"Countries\"]\n",
    "\n",
    "df1.loc[[\"A\",\"B\"],[\"Countries\",\"population(millions)\"]] # targeting rows and columns simultaneously\n",
    "\n",
    "# to select country with population greater than 100 million\n",
    "\n",
    "df1[df1[\"population(millions)\"]>100]\n",
    "\n",
    "df1.iloc[1] # it'll give the row whose index is 1"
   ]
  },
  {
   "cell_type": "code",
   "execution_count": null,
   "id": "b19f6a65",
   "metadata": {},
   "outputs": [
    {
     "data": {
      "text/html": [
       "<div>\n",
       "<style scoped>\n",
       "    .dataframe tbody tr th:only-of-type {\n",
       "        vertical-align: middle;\n",
       "    }\n",
       "\n",
       "    .dataframe tbody tr th {\n",
       "        vertical-align: top;\n",
       "    }\n",
       "\n",
       "    .dataframe thead th {\n",
       "        text-align: right;\n",
       "    }\n",
       "</style>\n",
       "<table border=\"1\" class=\"dataframe\">\n",
       "  <thead>\n",
       "    <tr style=\"text-align: right;\">\n",
       "      <th></th>\n",
       "      <th>States</th>\n",
       "      <th>Countries</th>\n",
       "      <th>population(millions)</th>\n",
       "    </tr>\n",
       "  </thead>\n",
       "  <tbody>\n",
       "    <tr>\n",
       "      <th>A</th>\n",
       "      <td>Uttarakhand</td>\n",
       "      <td>India</td>\n",
       "      <td>100.0</td>\n",
       "    </tr>\n",
       "    <tr>\n",
       "      <th>B</th>\n",
       "      <td>Maharashtra</td>\n",
       "      <td>United States</td>\n",
       "      <td>130.0</td>\n",
       "    </tr>\n",
       "    <tr>\n",
       "      <th>C</th>\n",
       "      <td>Sikkim</td>\n",
       "      <td>Russia</td>\n",
       "      <td>160.0</td>\n",
       "    </tr>\n",
       "  </tbody>\n",
       "</table>\n",
       "</div>"
      ],
      "text/plain": [
       "        States      Countries  population(millions)\n",
       "A  Uttarakhand          India                 100.0\n",
       "B  Maharashtra  United States                 130.0\n",
       "C       Sikkim         Russia                 160.0"
      ]
     },
     "execution_count": 80,
     "metadata": {},
     "output_type": "execute_result"
    }
   ],
   "source": [
    "# Columns can be modified by assignment\n",
    "\n",
    "df1[\"population(millions)\"]=np.arange(100.,190,30) # we can also assign a constant\n",
    "df1"
   ]
  },
  {
   "cell_type": "code",
   "execution_count": null,
   "id": "37357968",
   "metadata": {},
   "outputs": [
    {
     "data": {
      "text/html": [
       "<div>\n",
       "<style scoped>\n",
       "    .dataframe tbody tr th:only-of-type {\n",
       "        vertical-align: middle;\n",
       "    }\n",
       "\n",
       "    .dataframe tbody tr th {\n",
       "        vertical-align: top;\n",
       "    }\n",
       "\n",
       "    .dataframe thead th {\n",
       "        text-align: right;\n",
       "    }\n",
       "</style>\n",
       "<table border=\"1\" class=\"dataframe\">\n",
       "  <thead>\n",
       "    <tr style=\"text-align: right;\">\n",
       "      <th></th>\n",
       "      <th>States</th>\n",
       "      <th>Countries</th>\n",
       "      <th>population(millions)</th>\n",
       "    </tr>\n",
       "  </thead>\n",
       "  <tbody>\n",
       "    <tr>\n",
       "      <th>A</th>\n",
       "      <td>Uttarakhand</td>\n",
       "      <td>India</td>\n",
       "      <td>NaN</td>\n",
       "    </tr>\n",
       "    <tr>\n",
       "      <th>B</th>\n",
       "      <td>Maharashtra</td>\n",
       "      <td>United States</td>\n",
       "      <td>NaN</td>\n",
       "    </tr>\n",
       "    <tr>\n",
       "      <th>C</th>\n",
       "      <td>Sikkim</td>\n",
       "      <td>Russia</td>\n",
       "      <td>NaN</td>\n",
       "    </tr>\n",
       "  </tbody>\n",
       "</table>\n",
       "</div>"
      ],
      "text/plain": [
       "        States      Countries  population(millions)\n",
       "A  Uttarakhand          India                   NaN\n",
       "B  Maharashtra  United States                   NaN\n",
       "C       Sikkim         Russia                   NaN"
      ]
     },
     "execution_count": 81,
     "metadata": {},
     "output_type": "execute_result"
    }
   ],
   "source": [
    "val = pd.Series([-1.2, -1.5, -1.7], index=[\"two\", \"four\", \"five\"])\n",
    "df1[\"population(millions)\"]=val\n",
    "df1"
   ]
  },
  {
   "cell_type": "code",
   "execution_count": null,
   "id": "ec472d1a",
   "metadata": {},
   "outputs": [
    {
     "data": {
      "text/html": [
       "<div>\n",
       "<style scoped>\n",
       "    .dataframe tbody tr th:only-of-type {\n",
       "        vertical-align: middle;\n",
       "    }\n",
       "\n",
       "    .dataframe tbody tr th {\n",
       "        vertical-align: top;\n",
       "    }\n",
       "\n",
       "    .dataframe thead th {\n",
       "        text-align: right;\n",
       "    }\n",
       "</style>\n",
       "<table border=\"1\" class=\"dataframe\">\n",
       "  <thead>\n",
       "    <tr style=\"text-align: right;\">\n",
       "      <th></th>\n",
       "      <th>States</th>\n",
       "      <th>Countries</th>\n",
       "      <th>population(millions)</th>\n",
       "      <th>is_india</th>\n",
       "    </tr>\n",
       "  </thead>\n",
       "  <tbody>\n",
       "    <tr>\n",
       "      <th>A</th>\n",
       "      <td>Uttarakhand</td>\n",
       "      <td>India</td>\n",
       "      <td>NaN</td>\n",
       "      <td>True</td>\n",
       "    </tr>\n",
       "    <tr>\n",
       "      <th>B</th>\n",
       "      <td>Maharashtra</td>\n",
       "      <td>United States</td>\n",
       "      <td>NaN</td>\n",
       "      <td>False</td>\n",
       "    </tr>\n",
       "    <tr>\n",
       "      <th>C</th>\n",
       "      <td>Sikkim</td>\n",
       "      <td>Russia</td>\n",
       "      <td>NaN</td>\n",
       "      <td>False</td>\n",
       "    </tr>\n",
       "  </tbody>\n",
       "</table>\n",
       "</div>"
      ],
      "text/plain": [
       "        States      Countries  population(millions)  is_india\n",
       "A  Uttarakhand          India                   NaN      True\n",
       "B  Maharashtra  United States                   NaN     False\n",
       "C       Sikkim         Russia                   NaN     False"
      ]
     },
     "execution_count": 82,
     "metadata": {},
     "output_type": "execute_result"
    }
   ],
   "source": [
    "# column of boolean values where the country column equals India\n",
    "\n",
    "df1[\"is_india\"]=df1[\"Countries\"]==\"India\"\n",
    "df1"
   ]
  },
  {
   "cell_type": "code",
   "execution_count": null,
   "id": "010a8030",
   "metadata": {},
   "outputs": [],
   "source": [
    "# deleting a column\n",
    "\n",
    "# drop() and del\n",
    "\n",
    "# Feature\t                      drop()\t                                    del\n",
    "# Type\t                          pandas method\t                                Python statement\n",
    "# Works on\t                      Rows and columns\t                            Columns only\n",
    "# Modifies in place?\t          Optional (inplace=True)\t                    Always in place\n",
    "# Returns a new object?\t          Yes (by default)\t                            No (returns nothing)\n",
    "# Can delete multiple?            Yes (e.g. df.drop(['A', 'B'], axis=1))      \tNo (one at a time)\n",
    "# Typical usage\t                  Flexible, safe deletion\t                    Quick, permanent deletion of column\n",
    "\n",
    "\n",
    "\n",
    "df1=pd.DataFrame(df)\n",
    "# df1=df1.drop(\"is_india\",axis=1,inplace=\"True\")\n",
    "# del df1[\"is_india\"]"
   ]
  },
  {
   "cell_type": "code",
   "execution_count": null,
   "id": "bf98a4aa",
   "metadata": {},
   "outputs": [
    {
     "data": {
      "text/html": [
       "<div>\n",
       "<style scoped>\n",
       "    .dataframe tbody tr th:only-of-type {\n",
       "        vertical-align: middle;\n",
       "    }\n",
       "\n",
       "    .dataframe tbody tr th {\n",
       "        vertical-align: top;\n",
       "    }\n",
       "\n",
       "    .dataframe thead th {\n",
       "        text-align: right;\n",
       "    }\n",
       "</style>\n",
       "<table border=\"1\" class=\"dataframe\">\n",
       "  <thead>\n",
       "    <tr style=\"text-align: right;\">\n",
       "      <th></th>\n",
       "      <th>0</th>\n",
       "      <th>1</th>\n",
       "      <th>2</th>\n",
       "      <th>3</th>\n",
       "    </tr>\n",
       "  </thead>\n",
       "  <tbody>\n",
       "    <tr>\n",
       "      <th>states</th>\n",
       "      <td>Jammu and Kashmir</td>\n",
       "      <td>Uttarakhand</td>\n",
       "      <td>Himachal Pradesh</td>\n",
       "      <td>Punjab</td>\n",
       "    </tr>\n",
       "    <tr>\n",
       "      <th>year</th>\n",
       "      <td>2008</td>\n",
       "      <td>2009</td>\n",
       "      <td>2010</td>\n",
       "      <td>2011</td>\n",
       "    </tr>\n",
       "    <tr>\n",
       "      <th>pop</th>\n",
       "      <td>1.5</td>\n",
       "      <td>1.7</td>\n",
       "      <td>2.6</td>\n",
       "      <td>2.9</td>\n",
       "    </tr>\n",
       "  </tbody>\n",
       "</table>\n",
       "</div>"
      ],
      "text/plain": [
       "                        0            1                 2       3\n",
       "states  Jammu and Kashmir  Uttarakhand  Himachal Pradesh  Punjab\n",
       "year                 2008         2009              2010    2011\n",
       "pop                   1.5          1.7               2.6     2.9"
      ]
     },
     "execution_count": 84,
     "metadata": {},
     "output_type": "execute_result"
    }
   ],
   "source": [
    "# Transpose (swap rows and columns)\n",
    "\n",
    "# You can transpose the DataFrame (swap rows and columns) with similar syntax to a NumPy array:\n",
    "\n",
    "df1.T"
   ]
  },
  {
   "cell_type": "code",
   "execution_count": null,
   "id": "4a80a429",
   "metadata": {},
   "outputs": [],
   "source": [
    "# Possible data inputs to the DataFrame constructor\n",
    "\n",
    "# 2D    -    ndarray A matrix of data, passing optional row and column labels\n",
    "\n",
    "# Dictionary of arrays, lists, or tuples     -    Each sequence becomes a column in the DataFrame; all sequences must be the same length\n",
    "\n",
    "# NumPy structured/record array    -    Treated as the “dictionary of arrays” case\n",
    "\n",
    "# Dictionary of Series    -    Each value becomes a column; indexes from each Series are unioned together to form the result’s row index if no explicit index is passed \n",
    "\n",
    "# Dictionary of dictionaries    -    Each inner dictionary becomes a column; keys are unioned to form the row index as in the “dictionary of Series” case\n",
    "\n",
    "# List of dictionaries or Series    -    Each item becomes a row in the DataFrame; unions of dictionary keys or Series indexes become the DataFrame’s column labels\n",
    "\n",
    "# List of lists or tuples    -    Treated as the “2D ndarray” case\n",
    "\n",
    "# Another DataFrame    -    The DataFrame’s indexes are used unless different ones are passed\n",
    "\n",
    "# NumPy MaskedArray    -    Like the “2D ndarray” case except masked values are missing in the DataFrame result"
   ]
  },
  {
   "cell_type": "code",
   "execution_count": null,
   "id": "4f226986",
   "metadata": {},
   "outputs": [
    {
     "data": {
      "text/plain": [
       "array([['Jammu and Kashmir', 2008, 1.5],\n",
       "       ['Uttarakhand', 2009, 1.7],\n",
       "       ['Himachal Pradesh', 2010, 2.6],\n",
       "       ['Punjab', 2011, 2.9]], dtype=object)"
      ]
     },
     "execution_count": 86,
     "metadata": {},
     "output_type": "execute_result"
    }
   ],
   "source": [
    "d=np.array(df)\n",
    "d"
   ]
  },
  {
   "cell_type": "code",
   "execution_count": null,
   "id": "1d0104e9",
   "metadata": {},
   "outputs": [
    {
     "data": {
      "text/html": [
       "<div>\n",
       "<style scoped>\n",
       "    .dataframe tbody tr th:only-of-type {\n",
       "        vertical-align: middle;\n",
       "    }\n",
       "\n",
       "    .dataframe tbody tr th {\n",
       "        vertical-align: top;\n",
       "    }\n",
       "\n",
       "    .dataframe thead th {\n",
       "        text-align: right;\n",
       "    }\n",
       "</style>\n",
       "<table border=\"1\" class=\"dataframe\">\n",
       "  <thead>\n",
       "    <tr style=\"text-align: right;\">\n",
       "      <th></th>\n",
       "      <th>states</th>\n",
       "      <th>year</th>\n",
       "      <th>pop</th>\n",
       "    </tr>\n",
       "  </thead>\n",
       "  <tbody>\n",
       "    <tr>\n",
       "      <th>A</th>\n",
       "      <td>NaN</td>\n",
       "      <td>NaN</td>\n",
       "      <td>NaN</td>\n",
       "    </tr>\n",
       "    <tr>\n",
       "      <th>B</th>\n",
       "      <td>NaN</td>\n",
       "      <td>NaN</td>\n",
       "      <td>NaN</td>\n",
       "    </tr>\n",
       "    <tr>\n",
       "      <th>C</th>\n",
       "      <td>NaN</td>\n",
       "      <td>NaN</td>\n",
       "      <td>NaN</td>\n",
       "    </tr>\n",
       "    <tr>\n",
       "      <th>D</th>\n",
       "      <td>NaN</td>\n",
       "      <td>NaN</td>\n",
       "      <td>NaN</td>\n",
       "    </tr>\n",
       "    <tr>\n",
       "      <th>E</th>\n",
       "      <td>NaN</td>\n",
       "      <td>NaN</td>\n",
       "      <td>NaN</td>\n",
       "    </tr>\n",
       "  </tbody>\n",
       "</table>\n",
       "</div>"
      ],
      "text/plain": [
       "  states  year  pop\n",
       "A    NaN   NaN  NaN\n",
       "B    NaN   NaN  NaN\n",
       "C    NaN   NaN  NaN\n",
       "D    NaN   NaN  NaN\n",
       "E    NaN   NaN  NaN"
      ]
     },
     "execution_count": 87,
     "metadata": {},
     "output_type": "execute_result"
    }
   ],
   "source": [
    "# reindexing (Calling reindex on this Series rearranges the data according to the new index, introducing missing values if any index values were not already present)\n",
    "\n",
    "df2=pd.Series([\"China\",\"Russia\",\"India\",\"United states\",\"Australia\"],index=[\"D\",\"C\",\"A\",\"E\",\"B\"])\n",
    "df3=df.reindex([\"A\",\"B\",\"C\",\"D\",\"E\"])\n",
    "df3"
   ]
  },
  {
   "cell_type": "code",
   "execution_count": null,
   "id": "a6daf46d",
   "metadata": {},
   "outputs": [
    {
     "data": {
      "text/plain": [
       "0      blue\n",
       "1      blue\n",
       "2    purple\n",
       "3    purple\n",
       "4    yellow\n",
       "5    yellow\n",
       "6    yellow\n",
       "7    yellow\n",
       "8    yellow\n",
       "dtype: object"
      ]
     },
     "execution_count": 88,
     "metadata": {},
     "output_type": "execute_result"
    }
   ],
   "source": [
    "obj3 = pd.Series([\"blue\", \"purple\", \"yellow\"], index=[0, 2, 4])\n",
    "obj3.reindex(np.arange(9), method=\"ffill\") # forward fill"
   ]
  }
 ],
 "metadata": {
  "kernelspec": {
   "display_name": "Python 3",
   "language": "python",
   "name": "python3"
  },
  "language_info": {
   "codemirror_mode": {
    "name": "ipython",
    "version": 3
   },
   "file_extension": ".py",
   "mimetype": "text/x-python",
   "name": "python",
   "nbconvert_exporter": "python",
   "pygments_lexer": "ipython3",
   "version": "3.13.9"
  }
 },
 "nbformat": 4,
 "nbformat_minor": 5
}
